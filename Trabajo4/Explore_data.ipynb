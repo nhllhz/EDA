{
 "cells": [
  {
   "cell_type": "markdown",
   "metadata": {},
   "source": [
    "# Trabajo 4"
   ]
  },
  {
   "cell_type": "code",
   "execution_count": 6,
   "metadata": {},
   "outputs": [],
   "source": [
    "#Importaciones\n",
    "import pandas as pd\n",
    "import numpy as np"
   ]
  },
  {
   "cell_type": "markdown",
   "metadata": {},
   "source": [
    "### Cargo todos los CSV "
   ]
  },
  {
   "cell_type": "code",
   "execution_count": 7,
   "metadata": {},
   "outputs": [],
   "source": [
    "df_materias=pd.read_csv(\"Data\\Alu_Materia.csv\",sep=';')\n",
    "df_carreras=pd.read_csv(\"Data\\Alu_Carrera.csv\",sep=';')\n",
    "info_materias=pd.read_csv(\"Data\\Materias.csv\",sep=';')\n",
    "info_finales=pd.read_csv(\"Data\\Finales.csv\",sep=';')\n",
    "info_carreras=pd.read_csv(\"Data\\Carreras.csv\",sep=';')\n",
    "#df_carreras['Fecha_Nac']\n",
    "#df_materias"
   ]
  },
  {
   "cell_type": "code",
   "execution_count": 8,
   "metadata": {},
   "outputs": [],
   "source": [
    "#df_materias.info()\n",
    "#df_carreras.info()\n",
    "#info_carreras.info()\n",
    "#info_finales.info()\n",
    "#info_materias.info()"
   ]
  },
  {
   "cell_type": "markdown",
   "metadata": {},
   "source": [
    "### Arreglo de datos"
   ]
  },
  {
   "cell_type": "code",
   "execution_count": 9,
   "metadata": {},
   "outputs": [],
   "source": [
    "#Dropeo esas columnas que no me sirven para este analisis\n",
    "#Y elimino registros sobrantes para el analisis, todos aquellos menores a 2000 y mayores al año 2010\n",
    "df_materias=df_materias.drop(['Fecha_1p','Fecha_2p','Fecha_TP','Fecha_Recup','Ctro_Ext','Id_Comision'],axis=1)\n",
    "df_materias=df_materias[(df_materias.Año>2000)&(df_materias.Año<2011)]"
   ]
  },
  {
   "cell_type": "code",
   "execution_count": 10,
   "metadata": {},
   "outputs": [],
   "source": [
    "#Elimino columnas que no me sirven\n",
    "df_carreras=df_carreras.drop(['Id_Ctro_Ext' ,'Id_Modalidad' ,'Fecha_Ingreso' ,'Activo'],axis=1)"
   ]
  },
  {
   "cell_type": "code",
   "execution_count": 11,
   "metadata": {},
   "outputs": [],
   "source": [
    "#Elimino datos con ruido, duplicados \n",
    "info_finales=info_finales.drop_duplicates(subset=info_finales.columns.tolist()).reset_index().drop(['index'],axis=1)"
   ]
  },
  {
   "cell_type": "code",
   "execution_count": 12,
   "metadata": {},
   "outputs": [],
   "source": [
    "#Elimino columnas que no me sirven\n",
    "info_carreras=info_carreras.drop(['Nombre_Largo'],axis=1)"
   ]
  },
  {
   "cell_type": "markdown",
   "metadata": {},
   "source": [
    "### Merge"
   ]
  },
  {
   "cell_type": "code",
   "execution_count": 13,
   "metadata": {},
   "outputs": [],
   "source": [
    "#entre df materias y df_carreras\n",
    "merge1=df_carreras.merge(df_materias,on=['Id_Carrera','Id_Alumno'])\n"
   ]
  },
  {
   "cell_type": "code",
   "execution_count": 14,
   "metadata": {},
   "outputs": [],
   "source": [
    "#Entre el primer merge e info_finales\n",
    "merge2=merge1.merge(info_finales,how='left',right_on=['Id_Alumno', 'Id_Carrera', 'Id_Materia', 'Semetre_Cursada','Año_Cursada'], \n",
    "                    left_on=['Id_Alumno', 'Id_Carrera', 'Id_Materia', 'Semestre','Año'])\n",
    "#merge2"
   ]
  },
  {
   "cell_type": "code",
   "execution_count": 15,
   "metadata": {},
   "outputs": [],
   "source": [
    "#merge con el 2 e info_carreras\n",
    "merge3=merge2.merge(info_carreras,on=['Id_Carrera'])\n",
    "#merge3"
   ]
  },
  {
   "cell_type": "code",
   "execution_count": 16,
   "metadata": {},
   "outputs": [
    {
     "data": {
      "text/plain": [
       "Index(['Id_Alumno', 'Id_Carrera', 'Semestre_Ingreso', 'Año_Ingreso', 'Sexo',\n",
       "       'Fecha_Nac', 'Id_Materia', 'Semestre', 'Año', 'Fecha_Inscrip',\n",
       "       'Id_Modalidad', 'Nota_1p', 'Nota_2p', 'Nota_TP', 'Nota_Recup',\n",
       "       'Cuatrimestre', 'Semetre_Cursada', 'Año_Cursada', 'Fecha_Examen',\n",
       "       'Nota', 'Fecha_Inscrip_Examen', 'Nombre_Corto', 'Abreviatura',\n",
       "       'Cuatrimestres', 'Nombre'],\n",
       "      dtype='object')"
      ]
     },
     "execution_count": 16,
     "metadata": {},
     "output_type": "execute_result"
    }
   ],
   "source": [
    "#Merge 3 con info_materias\n",
    "merge4=merge3.merge(info_materias,on=['Id_Materia'])\n",
    "merge4.columns"
   ]
  },
  {
   "cell_type": "markdown",
   "metadata": {},
   "source": [
    "### Arreglo Datos totales"
   ]
  },
  {
   "cell_type": "code",
   "execution_count": 17,
   "metadata": {},
   "outputs": [],
   "source": [
    "#Reemplazo valores del ausente (11) por nan para que no afecte en el analisis. \n",
    "#Lo aplico sobre las columnas de las notas\n",
    "merge4['Nota_1p'] = merge4['Nota_1p'].replace(11.0,np.NaN)\n",
    "merge4['Nota_2p'] = merge4['Nota_2p'].replace(11.0,np.NaN)\n",
    "merge4['Nota_TP'] = merge4['Nota_TP'].replace(11.0,np.NaN)\n",
    "merge4['Nota_Recup'] = merge4['Nota_Recup'].replace(11.0,np.NaN)"
   ]
  },
  {
   "cell_type": "code",
   "execution_count": 18,
   "metadata": {},
   "outputs": [],
   "source": [
    "#Elimino la columna Año_cursada y semestre_cursada ya que se repiten los datos de Año y Semetre del df_materias\n",
    "merge4=merge4.drop(['Año_Cursada','Semetre_Cursada'],axis=1)"
   ]
  },
  {
   "cell_type": "code",
   "execution_count": 19,
   "metadata": {},
   "outputs": [],
   "source": [
    "#Convierto datos de fechas que son objects a datetime\n",
    "merge4['Fecha_Nac']=pd.to_datetime(merge4['Fecha_Nac']).dt.year\n",
    "merge4['Fecha_Examen']=pd.to_datetime(merge4['Fecha_Examen']).dt.floor('d')\n",
    "merge4['Fecha_Inscrip_Examen']=pd.to_datetime(merge4['Fecha_Inscrip_Examen']).dt.floor('d')\n",
    "merge4['Fecha_Inscrip']=pd.to_datetime(merge4['Fecha_Inscrip']).dt.floor('d')"
   ]
  },
  {
   "cell_type": "code",
   "execution_count": 20,
   "metadata": {},
   "outputs": [],
   "source": [
    "#Cambio nombre de columnas\n",
    "merge4=merge4.rename(columns={'Semestre':'Semest_Cursada','Año':'Año_Cursada','Cuatrimestre':'Cuatri_Materia',\n",
    "                      'Nota':'Nota_Final','Nombre_Corto':'Name_Carrera','Abreviatura':'Abrev_Car',\n",
    "                      'Cuatrimestres':'Cuatris_Carrera','Nombre':'Name_Materia'})"
   ]
  },
  {
   "cell_type": "markdown",
   "metadata": {},
   "source": [
    "### Clasificacion notas"
   ]
  },
  {
   "cell_type": "code",
   "execution_count": 21,
   "metadata": {},
   "outputs": [],
   "source": [
    "#Clasificacion\n",
    "\n",
    "def ClasificAcademy(p1,p2,tp,rec):\n",
    "#limpieza de datos. \n",
    "\n",
    "    if p1 ==11 : p1 = np.nan\n",
    "    if p2 ==11 : p2 = np.nan\n",
    "    if tp ==11 : tp = np.nan \n",
    "    if rec ==11 : rec = np.nan\n",
    "        \n",
    "        \n",
    "    #Clasificacion de alumnos. \n",
    "    if (p1 >= 7) and (p2 >= 7) and (tp >= 7):\n",
    "        return 'P'\n",
    "    elif (p1 >= 5) and (p2 >= 5) and (tp >= 5):\n",
    "        return 'R'\n",
    "    elif (tp >= 5) and (rec >= 5):\n",
    "        return 'R'\n",
    "    elif (tp == 11) or (np.isnan(tp)):\n",
    "        return 'D'\n",
    "    elif (rec == 11) or (np.isnan(rec)):\n",
    "        return 'D'\n",
    "    else:\n",
    "        return 'L'\n"
   ]
  },
  {
   "cell_type": "code",
   "execution_count": 22,
   "metadata": {},
   "outputs": [],
   "source": [
    "#funcion para agregar la columna y los datos de la condicion\n",
    "merge4[\"Cond_Materia\"]=merge4.apply(lambda f:ClasificAcademy(f['Nota_1p'],f['Nota_2p'],f['Nota_TP'],f['Nota_Recup']),axis=1 )"
   ]
  },
  {
   "cell_type": "code",
   "execution_count": 23,
   "metadata": {},
   "outputs": [],
   "source": [
    "#Calsificador del final. \n",
    "#'Ap'= aprobado\n",
    "#'Rep'= reprobado\n",
    "#'Aus'= ausente\n",
    "def ClasificFinal(nota):\n",
    "    if nota >= 4 and nota <11:\n",
    "        return \"Ap\"\n",
    "    if nota < 4:\n",
    "        return \"Rep\"\n",
    "    else:\n",
    "        return \"Aus\"\n",
    "    \n"
   ]
  },
  {
   "cell_type": "code",
   "execution_count": 24,
   "metadata": {},
   "outputs": [],
   "source": [
    "merge4[\"Cond_Final\"]=merge4.apply(lambda f:ClasificFinal(f['Nota_Final']),axis=1 )"
   ]
  },
  {
   "cell_type": "code",
   "execution_count": 25,
   "metadata": {},
   "outputs": [],
   "source": [
    "#Creo nueva columna con las edades\n",
    "merge4['Edad']=merge4['Año_Ingreso']-merge4['Fecha_Nac']"
   ]
  },
  {
   "cell_type": "code",
   "execution_count": 26,
   "metadata": {
    "scrolled": true
   },
   "outputs": [
    {
     "data": {
      "text/plain": [
       "[-18,\n",
       " -11,\n",
       " -9,\n",
       " -8,\n",
       " -7,\n",
       " -6,\n",
       " -5,\n",
       " -4,\n",
       " -3,\n",
       " 3,\n",
       " 14,\n",
       " 17,\n",
       " 18,\n",
       " 19,\n",
       " 20,\n",
       " 21,\n",
       " 22,\n",
       " 23,\n",
       " 24,\n",
       " 25,\n",
       " 26,\n",
       " 27,\n",
       " 28,\n",
       " 29,\n",
       " 30,\n",
       " 31,\n",
       " 32,\n",
       " 33,\n",
       " 34,\n",
       " 35,\n",
       " 36,\n",
       " 37,\n",
       " 38,\n",
       " 39,\n",
       " 40,\n",
       " 42,\n",
       " 43,\n",
       " 48,\n",
       " 52,\n",
       " 53]"
      ]
     },
     "execution_count": 26,
     "metadata": {},
     "output_type": "execute_result"
    }
   ],
   "source": [
    "sorted(merge4['Edad'].unique())\n",
    "#Cambiar por nan las fechas de nac menores a 17"
   ]
  },
  {
   "cell_type": "code",
   "execution_count": 27,
   "metadata": {},
   "outputs": [],
   "source": [
    "#Modifico datos rotos, aquellos donde la edad era menor a 17 años. No elimino el dato sino que reemplazo por nan\n",
    "merge4['Edad'] = np.where(merge4['Edad'] < 17, np.nan, merge4['Edad'])"
   ]
  },
  {
   "cell_type": "code",
   "execution_count": null,
   "metadata": {},
   "outputs": [],
   "source": []
  },
  {
   "cell_type": "markdown",
   "metadata": {},
   "source": [
    "### DF a csv"
   ]
  },
  {
   "cell_type": "code",
   "execution_count": 28,
   "metadata": {},
   "outputs": [],
   "source": [
    "merge4.to_csv('ies_todos.csv',index=False)"
   ]
  },
  {
   "cell_type": "code",
   "execution_count": null,
   "metadata": {},
   "outputs": [],
   "source": []
  },
  {
   "cell_type": "code",
   "execution_count": null,
   "metadata": {},
   "outputs": [],
   "source": []
  },
  {
   "cell_type": "code",
   "execution_count": null,
   "metadata": {},
   "outputs": [],
   "source": []
  }
 ],
 "metadata": {
  "kernelspec": {
   "display_name": "Python 3",
   "language": "python",
   "name": "python3"
  },
  "language_info": {
   "codemirror_mode": {
    "name": "ipython",
    "version": 3
   },
   "file_extension": ".py",
   "mimetype": "text/x-python",
   "name": "python",
   "nbconvert_exporter": "python",
   "pygments_lexer": "ipython3",
   "version": "3.8.5"
  }
 },
 "nbformat": 4,
 "nbformat_minor": 4
}
